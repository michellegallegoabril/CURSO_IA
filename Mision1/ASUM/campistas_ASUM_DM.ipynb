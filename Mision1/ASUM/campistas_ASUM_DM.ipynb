{
  "cells": [
    {
      "cell_type": "markdown",
      "metadata": {
        "id": "d5gO4Q91t5e7"
      },
      "source": [
        "#ASUM-DM"
      ]
    },
    {
      "cell_type": "markdown",
      "metadata": {
        "id": "lELnlzZYusk9"
      },
      "source": [
        " Es un enfoque para la preparación y organización de datos que se enfoca en 5 etapas fundamentales:\n",
        "\n",
        "Análisis, selección, unificación, muestreo y depuración.\n",
        "\n",
        "Este proceso es útil para mejorar la calidad de los datos antes de usarlos en modelos de análisis y aprendizaje automático\n",
        "\n"
      ]
    },
    {
      "cell_type": "markdown",
      "metadata": {
        "id": "UBXoqA_svj8q"
      },
      "source": [
        "Contesto el problema:\n",
        "análisis de clientes para estrategias de marketing personalizada una empresa de servicios financieros quiere lanzar una campaña de marketing personalizada para sus clientes de varias ciudades.\n",
        " La idea es identificar perfiles de clientes en función de características como edad, ingresos y categoría de cliente para definir estrategias.\n",
        "\n",
        "El equipo de marketing ha solicitado los analistas de datos e identificar:\n"
      ]
    },
    {
      "cell_type": "markdown",
      "metadata": {
        "id": "iG5_iHKTwrfl"
      },
      "source": [
        "segmentos de clientes:\n",
        "agrupar a los clientes en función de su categoría, ingresos, edad y ciudad.\n",
        "\n",
        "Tendencias de ingresos:\n",
        " analizar la distribución de los ingresos mensuales y detectar patrones en diferentes ciudades y edades.\n",
        "\n",
        "Clientes potenciales:\n",
        "identificar clientes con altos ingresos y en categoría de alto valor(“A”) para campañas específicas.\n",
        "\n",
        "Sin embargo, el conjunto de datos tiene varios problemas qué dificultan el análisis directo, cómo duplicados, valores atípicos y errores tipográficos.\n",
        "\n",
        "Antes de aplicar modelos de segmentación y análisis de tendencias, es necesario limpiar y organizar la información\n"
      ]
    },
    {
      "cell_type": "markdown",
      "metadata": {
        "id": "mDFyqkoaxErQ"
      },
      "source": [
        "# 1 Análisis de los datos (A):"
      ]
    },
    {
      "cell_type": "markdown",
      "metadata": {
        "id": "F9vwpOZVxLcx"
      },
      "source": [
        "Objetivo:\n",
        "\n",
        " examinar la calidad y característica de los datos.\n",
        "\n",
        " Acciones:\n",
        "  revisar el conjunto de datos para identificar valores faltantes,  datos inconsistentes, duplicados, errores tipográficos y valores atípicos.\n",
        "\n",
        "Este paso permite entender el tipo de problema que podrían afectar el análisis y decidir cómo resolverlos.\n"
      ]
    },
    {
      "cell_type": "code",
      "execution_count": 1,
      "metadata": {},
      "outputs": [],
      "source": [
        "#Importar librerías necesarías\n",
        "import pandas as pd"
      ]
    },
    {
      "cell_type": "code",
      "execution_count": 2,
      "metadata": {},
      "outputs": [
        {
          "data": {
            "text/plain": [
              "ID_cliente         501\n",
              "Edad               390\n",
              "Ingreso_mensual    257\n",
              "Categoría          442\n",
              "Ciudad             406\n",
              "País               251\n",
              "dtype: int64"
            ]
          },
          "execution_count": 2,
          "metadata": {},
          "output_type": "execute_result"
        }
      ],
      "source": [
        "# leer el archivo csv en un DataFrame\n",
        "df=pd.read_csv(\"clientes_con_errores.csv\")\n",
        "#contar cantidad de registros\n",
        "df.count()"
      ]
    },
    {
      "cell_type": "code",
      "execution_count": 7,
      "metadata": {},
      "outputs": [
        {
          "name": "stdout",
          "output_type": "stream",
          "text": [
            "===============Vista inicial del DataFrame===================\n"
          ]
        },
        {
          "data": {
            "text/html": [
              "<div>\n",
              "<style scoped>\n",
              "    .dataframe tbody tr th:only-of-type {\n",
              "        vertical-align: middle;\n",
              "    }\n",
              "\n",
              "    .dataframe tbody tr th {\n",
              "        vertical-align: top;\n",
              "    }\n",
              "\n",
              "    .dataframe thead th {\n",
              "        text-align: right;\n",
              "    }\n",
              "</style>\n",
              "<table border=\"1\" class=\"dataframe\">\n",
              "  <thead>\n",
              "    <tr style=\"text-align: right;\">\n",
              "      <th></th>\n",
              "      <th>ID_cliente</th>\n",
              "      <th>Edad</th>\n",
              "      <th>Ingreso_mensual</th>\n",
              "      <th>Categoría</th>\n",
              "      <th>Ciudad</th>\n",
              "      <th>País</th>\n",
              "    </tr>\n",
              "  </thead>\n",
              "  <tbody>\n",
              "    <tr>\n",
              "      <th>0</th>\n",
              "      <td>ID_001</td>\n",
              "      <td>-1.0</td>\n",
              "      <td>NaN</td>\n",
              "      <td>b</td>\n",
              "      <td>NaN</td>\n",
              "      <td>NaN</td>\n",
              "    </tr>\n",
              "    <tr>\n",
              "      <th>1</th>\n",
              "      <td>ID_002</td>\n",
              "      <td>NaN</td>\n",
              "      <td>NaN</td>\n",
              "      <td>b</td>\n",
              "      <td>Ciudad_B</td>\n",
              "      <td>Pais_Y</td>\n",
              "    </tr>\n",
              "    <tr>\n",
              "      <th>2</th>\n",
              "      <td>ID_003</td>\n",
              "      <td>150.0</td>\n",
              "      <td>7646.28</td>\n",
              "      <td>A</td>\n",
              "      <td>Ciudad_B</td>\n",
              "      <td>NaN</td>\n",
              "    </tr>\n",
              "    <tr>\n",
              "      <th>3</th>\n",
              "      <td>ID_004</td>\n",
              "      <td>30.0</td>\n",
              "      <td>-500.00</td>\n",
              "      <td>VIP</td>\n",
              "      <td>Ciudad123</td>\n",
              "      <td>Pais_X</td>\n",
              "    </tr>\n",
              "    <tr>\n",
              "      <th>4</th>\n",
              "      <td>ID_005</td>\n",
              "      <td>150.0</td>\n",
              "      <td>NaN</td>\n",
              "      <td>a</td>\n",
              "      <td>ciudad_a</td>\n",
              "      <td>Pais_X</td>\n",
              "    </tr>\n",
              "  </tbody>\n",
              "</table>\n",
              "</div>"
            ],
            "text/plain": [
              "  ID_cliente   Edad  Ingreso_mensual Categoría     Ciudad    País\n",
              "0     ID_001   -1.0              NaN         b        NaN     NaN\n",
              "1     ID_002    NaN              NaN         b   Ciudad_B  Pais_Y\n",
              "2     ID_003  150.0          7646.28         A   Ciudad_B     NaN\n",
              "3     ID_004   30.0          -500.00       VIP  Ciudad123  Pais_X\n",
              "4     ID_005  150.0              NaN         a   ciudad_a  Pais_X"
            ]
          },
          "metadata": {},
          "output_type": "display_data"
        }
      ],
      "source": [
        "# Mostrar las primeras filas del DataFrame\n",
        "print(\"===============Vista inicial del DataFrame===================\")\n",
        "display(df.head())"
      ]
    },
    {
      "cell_type": "code",
      "execution_count": 8,
      "metadata": {},
      "outputs": [
        {
          "name": "stdout",
          "output_type": "stream",
          "text": [
            "\n",
            " Valores nulos por columnas:\n"
          ]
        },
        {
          "data": {
            "text/plain": [
              "ID_cliente           0\n",
              "Edad               111\n",
              "Ingreso_mensual    244\n",
              "Categoría           59\n",
              "Ciudad              95\n",
              "País               250\n",
              "dtype: int64"
            ]
          },
          "execution_count": 8,
          "metadata": {},
          "output_type": "execute_result"
        }
      ],
      "source": [
        "# 1 verificar valores nulos\n",
        "print(\"\\n Valores nulos por columnas:\")\n",
        "df.isnull().sum()"
      ]
    },
    {
      "cell_type": "code",
      "execution_count": 11,
      "metadata": {},
      "outputs": [
        {
          "name": "stdout",
          "output_type": "stream",
          "text": [
            "    ID_cliente   Edad  Ingreso_mensual Categoría     Ciudad    País\n",
            "0       ID_001   -1.0              NaN         b        NaN     NaN\n",
            "1       ID_002    NaN              NaN         b   Ciudad_B  Pais_Y\n",
            "2       ID_003  150.0          7646.28         A   Ciudad_B     NaN\n",
            "4       ID_005  150.0              NaN         a   ciudad_a  Pais_X\n",
            "5       ID_006   -1.0         16558.77         B        NaN  Pais_Y\n",
            "..         ...    ...              ...       ...        ...     ...\n",
            "494     ID_495   -1.0              NaN       VIP        NaN     NaN\n",
            "495     ID_496   -1.0              NaN         A   Ciudad_A     NaN\n",
            "496     ID_497   -1.0              NaN         a  Ciudad123     NaN\n",
            "497     ID_498    NaN              NaN         A   Ciudad-C  Pais_Y\n",
            "498     ID_499  150.0         10781.73         a   Ciudad-C     NaN\n",
            "\n",
            "[371 rows x 6 columns]\n"
          ]
        }
      ],
      "source": [
        "# Identificar edades inconsistentes\n",
        "# consideremos que las edades válidas están entre 18 y 90\n",
        "edades_inconsistentes=df[(df['Edad']<18) | (df['Edad']>90)|(df['Edad'].isnull())]\n",
        "print(edades_inconsistentes)"
      ]
    },
    {
      "cell_type": "code",
      "execution_count": 13,
      "metadata": {},
      "outputs": [
        {
          "name": "stdout",
          "output_type": "stream",
          "text": [
            "\n",
            " Ciudades únicas\n",
            "['Ciudad_B' 'Ciudad123' 'ciudad_a' 'Ciudad_A' 'Ciudad-C']\n"
          ]
        }
      ],
      "source": [
        "# 3 Identificar inconsistencias en los nombres de ciudades\n",
        "# ver una lista única de las ciudades ingresadas para detectar variaciones\n",
        "ciudades_unicas=df['Ciudad'].dropna().unique()\n",
        "print(\"\\n Ciudades únicas\")\n",
        "print(ciudades_unicas)"
      ]
    },
    {
      "cell_type": "markdown",
      "metadata": {
        "id": "chqBNUV78Q0c"
      },
      "source": [
        "# 2 Selección  de los datos (S):"
      ]
    },
    {
      "cell_type": "markdown",
      "metadata": {
        "id": "G3gn6aVt8mRY"
      },
      "source": [
        "Objetivo: Elegir las variables y los registros más relevantes para el análisis.\n"
      ]
    },
    {
      "cell_type": "markdown",
      "metadata": {
        "id": "M-RjHNVX826r"
      },
      "source": [
        "Acciones: Determinar qué columna (atributos) y filas (registros) son útiles para el objetivo del análisis."
      ]
    },
    {
      "cell_type": "markdown",
      "metadata": {
        "id": "uCgsVBoO9YsR"
      },
      "source": [
        "Eliminar variables redundantes, irrelevantes o registros que no aportan valor lo cual ayuda a mejorar la eficiencia del procesamiento."
      ]
    },
    {
      "cell_type": "markdown",
      "metadata": {
        "id": "Cy1fi6-W-3Wr"
      },
      "source": [
        "Filtrado de flilas(registros):\n",
        "Eliminar registros que tengan:\n",
        "Edades fuera del rango razonable (18 a 90).\n",
        "ingresos no númericos o valores negativos.\n",
        "categorías de clientes a \"A\", \"B\", \"C\"\n",
        "\n",
        "\"A\" cliente de alto valor\n",
        "\n",
        "\"B\" cliente de valor medio\n",
        "\n",
        "\"C\" cliente de bajo valor"
      ]
    },
    {
      "cell_type": "markdown",
      "metadata": {
        "id": "L-iSlVAocPFD"
      },
      "source": [
        "# 3 Unificación y normalización de valores(U)"
      ]
    },
    {
      "cell_type": "markdown",
      "metadata": {
        "id": "RZRozr6WcnrN"
      },
      "source": [
        "Estandarizar los nombre de ciudades para tener consistencia en los datos y facilitar el análisis posterir.\n",
        "pasos:\n",
        "Normalización de los nombres de ciudades: Convertir todos los nombres a un formato consistente ,eliminar errores tipográficos y variaciones en mayúsculas/minúsculas también corregiremos cualquier variación que deba agruparse\n",
        "Ejemplos:\n",
        "\"Ciudad_A\" y \"ciudad_a deben ser iguales\n"
      ]
    },
    {
      "cell_type": "markdown",
      "metadata": {
        "id": "kqz_bb-vvnwT"
      },
      "source": [
        "# 4 Muestreo representativo(M):\n"
      ]
    },
    {
      "cell_type": "markdown",
      "metadata": {
        "id": "L3ERbn8hvvpP"
      },
      "source": [
        "Si es necesario, crear un subconjunto de dotos representativos para pruebas iniciales de segmentación\n",
        "pasos:\n",
        "\n",
        "Definir el tamaño de la Muestra:\n",
        "\n",
        "Asegurar representatividad en categorías clave:\n",
        "\n",
        "Revisar y validar la muestra:\n"
      ]
    },
    {
      "cell_type": "markdown",
      "metadata": {
        "id": "qFFLPOZn4As8"
      },
      "source": [
        "# 5 Depuración final (D):\n"
      ]
    },
    {
      "cell_type": "markdown",
      "metadata": {
        "id": "tVJrfCdzu1sZ"
      },
      "source": [
        "# 6 con los datos organizados y depurados:"
      ]
    },
    {
      "cell_type": "markdown",
      "metadata": {
        "id": "2Y_MjcYJu4OR"
      },
      "source": []
    },
    {
      "cell_type": "markdown",
      "metadata": {
        "id": "SchrrRzvu8o9"
      },
      "source": [
        "Aplicar técnicas de segmentación de clientes para identificar distintos perfiles dentro del conjunto de datos.\n"
      ]
    }
  ],
  "metadata": {
    "colab": {
      "provenance": []
    },
    "kernelspec": {
      "display_name": "env313",
      "language": "python",
      "name": "python3"
    },
    "language_info": {
      "codemirror_mode": {
        "name": "ipython",
        "version": 3
      },
      "file_extension": ".py",
      "mimetype": "text/x-python",
      "name": "python",
      "nbconvert_exporter": "python",
      "pygments_lexer": "ipython3",
      "version": "3.13.6"
    }
  },
  "nbformat": 4,
  "nbformat_minor": 0
}
