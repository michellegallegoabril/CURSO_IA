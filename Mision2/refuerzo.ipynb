{
 "cells": [
  {
   "cell_type": "code",
   "execution_count": null,
   "id": "a259952c",
   "metadata": {},
   "outputs": [],
   "source": [
    "\"\"\"\n",
    "Un robot en un mundo de 4 celdas lineales(0,1,2,3), donde la celda 3\n",
    "es el objetivo(recompensa). El robot puede moverse de izquierda a derecha\n",
    "\"\"\"\n",
    "\n",
    "\"\"\"\n",
    "Aprendizaje por refuerzo\n",
    "\n",
    "-Agente(sistema, robot...)  Robot\n",
    "-Entorno(El mundo que rodea al agente) las 4 celdas\n",
    "-Estado(Posición del agente dentro del entorno) [0,1,2,3]\n",
    "-Acción(Decision a tomar por parte del agente dentro de un estado) izq-der\n",
    "-Recompensa(es valor que se le da al agente tras llegar a un estado) Celda 3\n",
    "-Episodio(Conjunto de acciones desde el primer hasta el último estado) acciones desde celda 0 a la 3\n",
    "-Política(Es la estrategia que se le da al agente para saber que acción tomar) celda 0 no puede actuar hacia izq y en celda 3 no puede actuar hacia der\n",
    "\"\"\"\n",
    "\n",
    "\"\"\"\n",
    "Descripción del entorno\n",
    "Celdas: [0,1,2,3]\n",
    "Inicio: Celda 0\n",
    "Objetivo (recompensa): celda 3\n",
    "Acciones posibles: Izq(0), der(1)\n",
    "Si el robot se sale del rango (por ejemplo va a la izquierda desde 0) \n",
    "se queda en el mismo lugar\n",
    "Al llegar a la celda 3 termina el episodio\n",
    "\n",
    "\"\"\""
   ]
  },
  {
   "cell_type": "code",
   "execution_count": 17,
   "id": "ed35ca84",
   "metadata": {},
   "outputs": [
    {
     "name": "stdout",
     "output_type": "stream",
     "text": [
      "Q-table final\n",
      "[[0.498554   0.80932289]\n",
      " [0.47415615 0.89985713]\n",
      " [0.58873575 0.99997344]\n",
      " [0.         0.        ]]\n"
     ]
    }
   ],
   "source": [
    "import numpy as np\n",
    "import random\n",
    "\n",
    "#Parametros\n",
    "numero_estados=4 # celdas 0-3\n",
    "numero_acciones=2 # 0: izq, 1: der\n",
    "\n",
    "q_table= np.zeros((numero_estados,numero_acciones))\n",
    "\n",
    "alpha= 0.1 #Tasa de aprendizaje\n",
    "gama=  0.9 #Factor de descuento\n",
    "epilson= 0.2 # Exploración\n",
    "\n",
    "#Funcón para tomar una acción\n",
    "def escoge_accion(estado):\n",
    "    if random.uniform(0,1)<epilson:\n",
    "        return random.randint(0,1) #Explorar\n",
    "    else:\n",
    "        return np.argmax(q_table[estado])\n",
    "    \n",
    "#Función del entorno\n",
    "def paso(estado,accion):\n",
    "    if accion==0: #Izq\n",
    "     siguiente_paso=max(0,estado-1)\n",
    "    else:\n",
    "     siguiente_paso=min(numero_estados-1,estado+1)\n",
    "    recompensa= 1 if siguiente_paso==3 else 0\n",
    "    hecho= siguiente_paso==3\n",
    "    return siguiente_paso,recompensa,hecho\n",
    "\n",
    "\n",
    "episodios=100\n",
    "\n",
    "for episodios in range(episodios):\n",
    "    estado=0\n",
    "    hecho=False\n",
    "\n",
    "    while not hecho:\n",
    "       accion=escoge_accion(estado)\n",
    "       siguiente_paso,recompensa,hecho=paso(estado,accion)\n",
    "       #Escogemos el valor Q-valor de acuerdo al estado actual\n",
    "       valor_anterior=q_table[estado,accion]\n",
    "       #Escogemos el nuevo valor Q-valor para el estado\n",
    "       siguiente_max=np.max(q_table[siguiente_paso])\n",
    "\n",
    "       #Actualizamos el Q-valor\n",
    "       q_table[estado,accion]=valor_anterior+alpha*(recompensa+gama*siguiente_max-valor_anterior)\n",
    "\n",
    "       estado=siguiente_paso\n",
    "print(\"Q-table final\")\n",
    "print(q_table)\n"
   ]
  }
 ],
 "metadata": {
  "kernelspec": {
   "display_name": "env313",
   "language": "python",
   "name": "python3"
  },
  "language_info": {
   "codemirror_mode": {
    "name": "ipython",
    "version": 3
   },
   "file_extension": ".py",
   "mimetype": "text/x-python",
   "name": "python",
   "nbconvert_exporter": "python",
   "pygments_lexer": "ipython3",
   "version": "3.13.6"
  }
 },
 "nbformat": 4,
 "nbformat_minor": 5
}
