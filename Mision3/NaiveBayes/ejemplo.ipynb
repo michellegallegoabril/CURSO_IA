{
 "cells": [
  {
   "cell_type": "markdown",
   "id": "2b11847d",
   "metadata": {},
   "source": [
    "# Paso 1 Definir el conjunto de datos"
   ]
  },
  {
   "cell_type": "code",
   "execution_count": 29,
   "id": "9a9a1ab9",
   "metadata": {},
   "outputs": [],
   "source": [
    "# Datos de entrenamiento\n",
    "data = [\n",
    "    (\"Hola\", \"saludo\"),\n",
    "    (\"Buenos días\", \"saludo\"),\n",
    "    (\"Buenas tardes\", \"saludo\"),\n",
    "    (\"¿Cómo estás?\", \"saludo\"),\n",
    "    (\"Quisiera hacer una queja\", \"queja\"),\n",
    "    (\"No estoy satisfecho con el servicio\", \"queja\"),\n",
    "    (\"El producto llegó dañado\", \"queja\"),\n",
    "    (\"Necesito reclamar por un error\", \"reclamo\"),\n",
    "    (\"Quiero hacer un reclamo\", \"reclamo\"),\n",
    "    (\"Esto es inaceptable, quiero una solución\", \"reclamo\"),\n",
    "    (\"Me gustaría pedir información\", \"petición\"),\n",
    "    (\"Necesito saber más detalles sobre el producto\", \"petición\"),\n",
    "    (\"Por favor, envíenme más información\", \"petición\"),\n",
    "    (\"Adiós\", \"despedida\"),\n",
    "    (\"Hasta luego\", \"despedida\"),\n",
    "    (\"Nos vemos\", \"despedida\"),\n",
    "    (\"Chao\", \"despedida\")\n",
    "]\n",
    "#frases y etiquetas\n",
    "phrases,labels=zip(*data)"
   ]
  },
  {
   "cell_type": "markdown",
   "id": "2c4b943c",
   "metadata": {},
   "source": [
    "# Paso 2 Crear un diccionario de palabras y calcular frecuencias"
   ]
  },
  {
   "cell_type": "code",
   "execution_count": 30,
   "id": "73ff9bf8",
   "metadata": {},
   "outputs": [
    {
     "name": "stdout",
     "output_type": "stream",
     "text": [
      "total_words defaultdict(<class 'int'>, {'saludo': 7, 'queja': 14, 'reclamo': 15, 'petición': 16, 'despedida': 6}) total_phrase 17\n",
      "1\n",
      "4\n"
     ]
    }
   ],
   "source": [
    "from collections import defaultdict\n",
    "#crear un dicionario para contar palabras por categoría\n",
    "word_freq=defaultdict(lambda:defaultdict(int))\n",
    "category_freq=defaultdict(int)\n",
    "for phrase, label in data:\n",
    "    words= phrase.lower().split()\n",
    "    category_freq[label]+=1\n",
    "    for word in words:\n",
    "        word_freq[label][word]+=1\n",
    "# calcular la frecuencia total de palabras en cada categoía\n",
    "total_words=defaultdict(int)\n",
    "for label in word_freq:\n",
    "    total_words[label]=sum(word_freq[label].values())\n",
    "#Número total de frases\n",
    "total_phrase = len(data)\n",
    "\n",
    "print(f\"total_words {total_words} total_phrase {total_phrase}\")\n",
    "print(word_freq['saludo']['hola'])\n",
    "print(category_freq['saludo'])\n"
   ]
  },
  {
   "cell_type": "code",
   "execution_count": null,
   "id": "356bec1b",
   "metadata": {},
   "outputs": [],
   "source": []
  },
  {
   "cell_type": "markdown",
   "id": "39681460",
   "metadata": {},
   "source": [
    "# paso 3 Implementar el clasificador Naive Bayes"
   ]
  },
  {
   "cell_type": "code",
   "execution_count": 32,
   "id": "4c952764",
   "metadata": {},
   "outputs": [],
   "source": [
    "import math\n",
    "def classifi(phrase):\n",
    "    words =phrase.lower().split()\n",
    "    category_scores={}\n",
    "    for category in category_freq:\n",
    "        #Probabilidad a priori: log(p|c)\n",
    "        category_scores[category]=math.log(category_freq[category]/total_phrase)\n",
    "        for word in words:\n",
    "            #Conteo de las palabras en esa categoría\n",
    "            word_count=word_freq[category].get(word,0)\n",
    "            #Tamaño de vocabulario total\n",
    "            vocab_size=len(set(word for label in word_freq for word in word_freq[label]))\n",
    "            #Aplicamos suavizado de laplace: P(word|category)\n",
    "            prob=(word_count+1)/(total_words[category]+vocab_size)\n",
    "            #Sumamos el logaritmo de la probabilida\n",
    "            category_scores[category]+=math.log(prob)\n",
    "    return max(category_scores,key=category_scores.get)\n"
   ]
  },
  {
   "cell_type": "code",
   "execution_count": 38,
   "id": "1430b5c0",
   "metadata": {},
   "outputs": [
    {
     "name": "stdout",
     "output_type": "stream",
     "text": [
      "saludo\n",
      "queja\n",
      "despedida\n"
     ]
    }
   ],
   "source": [
    "print(classifi(\"Hola\"))\n",
    "print(classifi(\"El producto no funciona\"))\n",
    "print(classifi(\"Nos hablamos otro día\"))"
   ]
  },
  {
   "cell_type": "code",
   "execution_count": 40,
   "id": "a94de546",
   "metadata": {},
   "outputs": [],
   "source": [
    "respuestas={\n",
    "   \"saludo\":\"Hola, en que puedo ayudarte?\",\n",
    "   \"despedida\":\"Hasta luego que tengas un buen día\",\n",
    "   \"Queja\":\"Lamentamos lo sucedido, como podemos enmendar el error?\",\n",
    "   \"Reclamo\":\"Entiendo, vamos a tomarlo en cuenta\",\n",
    "   \"petición\":\"Con gusto dime que información necesitas?\",\n",
    "}"
   ]
  },
  {
   "cell_type": "code",
   "execution_count": 41,
   "id": "66e8e801",
   "metadata": {},
   "outputs": [
    {
     "name": "stdout",
     "output_type": "stream",
     "text": [
      "Chatbot: Escribe salir para terminar la conversación\n",
      "Chatbot: (saludo) Hola, en que puedo ayudarte?\n",
      "Chatbot: (reclamo) Lo siento, no entiendo tu mensaje\n",
      "Chatbot: (despedida) Hasta luego que tengas un buen día\n",
      "Chatbot: (despedida) Hasta luego que tengas un buen día\n",
      "Chatbot: (petición) Con gusto dime que información necesitas?\n",
      "Chatbot: (despedida) Hasta luego que tengas un buen día\n",
      "Chatbot: Hasta luego\n",
      "Chatbot: (saludo) Hola, en que puedo ayudarte?\n",
      "Chatbot: (saludo) Hola, en que puedo ayudarte?\n",
      "Chatbot: (saludo) Hola, en que puedo ayudarte?\n",
      "Chatbot: (saludo) Hola, en que puedo ayudarte?\n",
      "Chatbot: (saludo) Hola, en que puedo ayudarte?\n",
      "Chatbot: (saludo) Hola, en que puedo ayudarte?\n",
      "Chatbot: (saludo) Hola, en que puedo ayudarte?\n"
     ]
    }
   ],
   "source": [
    "#chatbot\n",
    "print(\"Chatbot: Escribe salir para terminar la conversación\")\n",
    "\n",
    "\n",
    "while True:\n",
    "    user_input=input(\"Tu: \")\n",
    "    if user_input.lower()=='salir':\n",
    "        print(\"Chatbot: Hasta luego\")\n",
    "        break\n",
    "    categoria=classifi(user_input)\n",
    "    respuesta= respuestas.get(categoria,\"Lo siento, no entiendo tu mensaje\")\n",
    "    print(f\"Chatbot: ({categoria}) {respuesta}\")"
   ]
  }
 ],
 "metadata": {
  "kernelspec": {
   "display_name": "Python 3",
   "language": "python",
   "name": "python3"
  },
  "language_info": {
   "codemirror_mode": {
    "name": "ipython",
    "version": 3
   },
   "file_extension": ".py",
   "mimetype": "text/x-python",
   "name": "python",
   "nbconvert_exporter": "python",
   "pygments_lexer": "ipython3",
   "version": "3.13.5"
  }
 },
 "nbformat": 4,
 "nbformat_minor": 5
}
